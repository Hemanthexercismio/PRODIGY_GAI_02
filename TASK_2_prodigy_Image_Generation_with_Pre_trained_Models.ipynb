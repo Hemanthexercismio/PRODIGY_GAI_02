{
  "cells": [
    {
      "cell_type": "code",
      "execution_count": null,
      "metadata": {
        "id": "HdDvTg40943D"
      },
      "outputs": [],
      "source": [
        "\n",
        "!pip install diffusers transformers torch accelerate\n",
        "\n",
        "\n",
        "from diffusers import StableDiffusionPipeline\n",
        "import torch\n",
        "\n",
        "\n",
        "model_id = \"runwayml/stable-diffusion-v1-5\"\n",
        "pipe = StableDiffusionPipeline.from_pretrained(model_id, torch_dtype=torch.float16)\n",
        "\n",
        "\n",
        "pipe = pipe.to(\"cuda\")\n",
        "\n",
        "\n",
        "prompt = \"a futuristic ship looks like jumping dolphine \"\n",
        "\n",
        "\n",
        "image = pipe(prompt, num_inference_steps=50, guidance_scale=7.5).images[0]\n",
        "\n",
        "image.save(\"generated_image.png\")\n",
        "\n",
        "from IPython.display import Image\n",
        "Image(filename=\"generated_image.png\")\n",
        "\n",
        "from google.colab import files\n",
        "files.download(\"generated_image.png\")\n"
      ]
    }
  ],
  "metadata": {
    "accelerator": "GPU",
    "colab": {
      "gpuType": "T4",
      "provenance": []
    },
    "kernelspec": {
      "display_name": "Python 3",
      "name": "python3"
    },
    "language_info": {
      "name": "python"
    }
  },
  "nbformat": 4,
  "nbformat_minor": 0
}